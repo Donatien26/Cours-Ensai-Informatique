{
 "cells": [
  {
   "cell_type": "markdown",
   "metadata": {
    "nbpresent": {
     "id": "af16b9b6-c6f3-4e59-9f14-a4390616ca32"
    }
   },
   "source": [
    "# Algorithmique et compléxité\n",
    "\n",
    "## Pyhton\n",
    "\n",
    "Python est une langage m\n",
    "\n",
    "## Les variables\n",
    "\n",
    "Un programme pyhton accède aux données via des **references**. Une référence est un simple \"nom\" auquel est lié une donnée. Il y en a plusieurs type :\n",
    "\n",
    "- **variables**\n",
    "- attributs (discuté plus longtemps lors du cours de programmation orientée objet)\n",
    "- items (on va en reparler)\n",
    "\n",
    "### Déclaration\n",
    "\n",
    "A la différence d'autres langages, en python il n'y a pas de syntaxe spécifique à la déclaration d'une variable. Vous avez juste à écrire le nom de votre variables et lui lié une valeur. Vous pouvez également si vous le souhaitez lié une nouvelle valeur à une variable déjà existante.\n",
    "\n",
    "Voici quelques exemples de base"
   ]
  },
  {
   "cell_type": "code",
   "execution_count": 83,
   "metadata": {
    "collapsed": false,
    "nbpresent": {
     "id": "903e3f4b-e8a7-4353-ad56-20e309b2a120"
    }
   },
   "outputs": [
    {
     "data": {
      "text/plain": [
       "'python'"
      ]
     },
     "execution_count": 83,
     "metadata": {},
     "output_type": "execute_result"
    }
   ],
   "source": [
    "# Définition d'une variable de type str (chaîne de caractère)\n",
    "matiere = 'python'\n",
    "matiere"
   ]
  },
  {
   "cell_type": "code",
   "execution_count": 84,
   "metadata": {
    "collapsed": false
   },
   "outputs": [
    {
     "data": {
      "text/plain": [
       "0"
      ]
     },
     "execution_count": 84,
     "metadata": {},
     "output_type": "execute_result"
    }
   ],
   "source": [
    "# Je met une nouvelle valeur dans matiere\n",
    "matiere = 0\n",
    "matiere"
   ]
  },
  {
   "cell_type": "code",
   "execution_count": 85,
   "metadata": {
    "collapsed": false
   },
   "outputs": [
    {
     "ename": "NameError",
     "evalue": "name 'matiere' is not defined",
     "output_type": "error",
     "traceback": [
      "\u001b[1;31m---------------------------------------------------------------------------\u001b[0m",
      "\u001b[1;31mNameError\u001b[0m                                 Traceback (most recent call last)",
      "\u001b[1;32m<ipython-input-85-fd7e90ddc179>\u001b[0m in \u001b[0;36m<module>\u001b[1;34m\u001b[0m\n\u001b[0;32m      1\u001b[0m \u001b[1;31m# Je supprime la référence à matière (cela va lever une erreur)\u001b[0m\u001b[1;33m\u001b[0m\u001b[1;33m\u001b[0m\u001b[0m\n\u001b[0;32m      2\u001b[0m \u001b[1;32mdel\u001b[0m\u001b[1;33m(\u001b[0m\u001b[0mmatiere\u001b[0m\u001b[1;33m)\u001b[0m\u001b[1;33m\u001b[0m\u001b[0m\n\u001b[1;32m----> 3\u001b[1;33m \u001b[0mmatiere\u001b[0m\u001b[1;33m\u001b[0m\u001b[0m\n\u001b[0m",
      "\u001b[1;31mNameError\u001b[0m: name 'matiere' is not defined"
     ]
    }
   ],
   "source": [
    "# Je supprime la référence à matière (cela va lever une erreur)\n",
    "del(matiere)\n",
    "matiere"
   ]
  },
  {
   "cell_type": "code",
   "execution_count": null,
   "metadata": {
    "collapsed": false,
    "nbpresent": {
     "id": "aca316ee-7ab2-4070-b83f-6c42e0b9237f"
    }
   },
   "outputs": [],
   "source": [
    "# Définition d'une variable de type int\n",
    "annee = 2019\n",
    "annee"
   ]
  },
  {
   "cell_type": "code",
   "execution_count": null,
   "metadata": {
    "collapsed": false,
    "nbpresent": {
     "id": "a2702d5d-b86b-4ffa-a35c-128c947740ef"
    }
   },
   "outputs": [],
   "source": [
    "# Définition d'une variable de type booléen\n",
    "estInterssante = True\n",
    "estInterssante"
   ]
  },
  {
   "cell_type": "markdown",
   "metadata": {},
   "source": [
    "### Les types de données\n",
    "\n",
    "Il existe une grande varieté de type de variable en python, voici une petit exemple\n",
    "\n",
    "- Type numérique\n",
    "    - integer (nombre entier, potentiellement infini)\n",
    "    - float (décimal avec une précision de 53²)\n",
    "    - complex\n",
    "- str (string, chaîne de caractère)\n",
    "- tuple (séquence ordonnée non mutable d'objet )\n",
    "- list (séquence ordonnée mutable d'objet)\n",
    "- set (séquence ordonnée non mutable d'objet unique)\n",
    "- dictionnaire (collection de couple clef-valeur)\n",
    "- booléen (true/false)\n",
    "\n",
    "#### Les types numériques\n",
    "\n",
    "Comme noté au dessus, il existe plusieurs types de données numériques en python, chacune avec des spécificités.\n",
    "\n",
    "##### Integer\n",
    "\n",
    "Les integers représentent un nombre entier (positif ou négatif). Ils ne sont pas bornés (donc potentiellement infini si vous avez une mémoire infinie), et peuvent être reprénsenté de différentes formes\n",
    "\n",
    "- litérallement (la forme la plus usuelle. Exemple 42, 12, 1456)\n",
    "- sous forme binaire (0b101010, 0b110, 0b10110110000)\n",
    "- sous forme octal (0o52, 0o14, 0o2660 )\n",
    "- sous forme hexadecimal (0x2A, 0xC, 0c5B0) \n",
    "\n",
    "##### Float\n",
    "\n",
    "Les floats (floating point) reprénsentent un nombre décimal. Ils ont une précision de 53² et peuvent s'écrire soit avec un . ou avec un suffixe *e* pour les puissances de 10\n",
    "\n",
    "- 0., 0.1, .2\n",
    "- 1e10, 231e-5\n",
    "\n",
    "##### Complex\n",
    "\n",
    "Les complexs représentent un nombre complexes. Se définissent comme les floats avec un préfixe j à la fin pour la partie imaginaire.\n",
    "\n",
    "- 2j, 0.3j, 23e-1j : uniquement imaginaire\n",
    "- 1+2j, 0.3 + 1e-6j : partie réelle et imaginaire\n",
    "\n",
    "##### Opérations sur les types numériques\n",
    "\n",
    "Voici quelques opération sur des types numériques"
   ]
  },
  {
   "cell_type": "code",
   "execution_count": null,
   "metadata": {
    "collapsed": false,
    "scrolled": true
   },
   "outputs": [],
   "source": [
    "a = 10\n",
    "b = 1\n",
    "c = a + b\n",
    "c"
   ]
  },
  {
   "cell_type": "code",
   "execution_count": null,
   "metadata": {
    "collapsed": false
   },
   "outputs": [],
   "source": [
    "d = a - b\n",
    "d"
   ]
  },
  {
   "cell_type": "code",
   "execution_count": null,
   "metadata": {
    "collapsed": false
   },
   "outputs": [],
   "source": [
    "nombre = 23\n",
    "diviseur = 5\n",
    "\n",
    "quotient = nombre // diviseur\n",
    "reste = nombre % diviseur\n",
    "\n",
    "\"Le résultat de la division euclidienne de %s par %s est %s avec un reste de %s\" % (nombre, diviseur, quotient, reste)"
   ]
  },
  {
   "cell_type": "code",
   "execution_count": null,
   "metadata": {
    "collapsed": false
   },
   "outputs": [],
   "source": [
    "a = 0.3\n",
    "b = 0.1\n",
    "a-b"
   ]
  },
  {
   "cell_type": "markdown",
   "metadata": {},
   "source": [
    "Le code au dessus montre le problèmes de la précision des calculs avec les float en python (mais c'est pas le seul langage avec ce genre de problème). Pour pallier à ce genre d'erreur il faut utilisler le module décimal"
   ]
  },
  {
   "cell_type": "code",
   "execution_count": null,
   "metadata": {
    "collapsed": false
   },
   "outputs": [],
   "source": [
    "from decimal import *\n",
    "Decimal('0.3') - Decimal('0.1')"
   ]
  },
  {
   "cell_type": "markdown",
   "metadata": {},
   "source": [
    "Je ne vais pas faire la liste de toutes les opérations sur les types numérique possibles car ce n'est pas intéressant. Garder en tête que toutes les opérations de bases sont possibles et qu'internet est votre ami."
   ]
  },
  {
   "cell_type": "markdown",
   "metadata": {},
   "source": [
    "#### Les chaînes de caractères (string ou str)\n",
    "\n",
    "Les chaînes de caractères représentent un texte en python. Ils doivent être défini entre \" ou '. Certains opérateurs agissent différement sur les chaînes de caractères\n",
    "\n",
    "- + : concaténation\n",
    "- \\* : répétition\n",
    "- [] : indexation\n",
    "\n",
    "Quelques exemples"
   ]
  },
  {
   "cell_type": "code",
   "execution_count": 107,
   "metadata": {
    "collapsed": false
   },
   "outputs": [
    {
     "name": "stdout",
     "output_type": "stream",
     "text": [
      "Twilight SparklePinkie Pie\n"
     ]
    }
   ],
   "source": [
    "twilight = \"Twilight Sparkle\"\n",
    "pinkie = \"Pinkie Pie\"\n",
    "\n",
    "concatenation = twilight + pinkie\n",
    "concatenation"
   ]
  },
  {
   "cell_type": "code",
   "execution_count": 108,
   "metadata": {
    "collapsed": false
   },
   "outputs": [
    {
     "data": {
      "text/plain": [
       "'Pinkie PiePinkie PiePinkie Pie'"
      ]
     },
     "execution_count": 108,
     "metadata": {},
     "output_type": "execute_result"
    }
   ],
   "source": [
    "repetition = pinkie * 3\n",
    "repetition"
   ]
  },
  {
   "cell_type": "code",
   "execution_count": 112,
   "metadata": {
    "collapsed": false
   },
   "outputs": [
    {
     "data": {
      "text/plain": [
       "'n'"
      ]
     },
     "execution_count": 112,
     "metadata": {},
     "output_type": "execute_result"
    }
   ],
   "source": [
    "pinkie[2]"
   ]
  },
  {
   "cell_type": "markdown",
   "metadata": {},
   "source": [
    "#### Les listes\n",
    "\n",
    "La liste (list) est un des types de variable le plus utilisé en python. C'est un tableau **ordonné**, **dynamique** d'élements qui peuvent être de type différents. Pour définir une liste il faut utiliser les []"
   ]
  },
  {
   "cell_type": "code",
   "execution_count": null,
   "metadata": {
    "collapsed": false
   },
   "outputs": [],
   "source": [
    "maList = [1,2,3, \"Twilight Sparkle\"] #Définition\n",
    "print(\"défintion\", maList)\n",
    "\n",
    "#Accès aux éléments\n",
    "print (\"Voici l'élément à l'indice 3\", maList[3])\n",
    "print (\"Voici le dernier élément\", maList[-1])\n",
    "print (\"Voici une sous liste de la liste\", maList[1:3])\n",
    "\n",
    "\n",
    "\n",
    "maList.append(True) #Ajout d'un élément\n",
    "print(\"ajout\", maList)\n",
    "maList[len(maList):] = [\"Appeljack\"]  #Ajout d'un élément autre manière\n",
    "print(\"ajout\", maList)\n",
    "\n",
    "print(\"Ma liste contient\", len(maList), \"éléments\")\n",
    "\n",
    "maList[1] = \"Pinkie Pie\" #je modifie l'élément d'index 1 (donc le second)\n",
    "print(\"modification\", maList)\n",
    "\n",
    "otherList = [\"Starlight Glimmer\", \"Trixie Lunamoon\"]\n",
    "maList.extend(otherList) #concaténation de listes\n",
    "print(\"concaténation\",maList)\n",
    "\n",
    "maList.pop(0) #retire l'élément d'indice 0\n",
    "print(\"retirer élément\", maList)"
   ]
  },
  {
   "cell_type": "markdown",
   "metadata": {},
   "source": [
    "Les listes sont des variables très souples qui peuvent contenir beaucoup de choses et très facile d'utilsattion. Un peu plus tard on va voir comment itérer sur les éléments d'une liste pour éxécuter des opérations sur chaque élément.\n",
    "\n",
    "En plus de la version manuelle de création d'une liste, python permet également de créer une liste de manière un peu plus automatique. Par exemple si je veux créer une liste avec les 10 premiers multiples de 3 voici un syntaxe plus rapide qu'écrire tous les nombres à la main"
   ]
  },
  {
   "cell_type": "code",
   "execution_count": null,
   "metadata": {
    "collapsed": false,
    "scrolled": true
   },
   "outputs": [],
   "source": [
    "listAuto = [i*3 for i in range(10)]\n",
    "listAuto"
   ]
  },
  {
   "cell_type": "markdown",
   "metadata": {},
   "source": [
    "**Attention** du fait qu'une liste soit une variable *mutable* l'opérateur \"=\" fonctionne par référence (on ne passe pas une valeur, mais une référence mémoire). Cela peut vous apporter quelques supprise"
   ]
  },
  {
   "cell_type": "code",
   "execution_count": null,
   "metadata": {
    "collapsed": false,
    "scrolled": true
   },
   "outputs": [],
   "source": [
    "maineSix = [\"Twilght Sparkle\", \"Pinkie Pie\", \"Rainbow Dash\", \"Rarity\", \"Applejack\", \"Fluttershy\"]\n",
    "lesSix = maineSix\n",
    "maineSixBis = maineSix[:]\n",
    "maineSix.pop()\n",
    "print(maineSix)\n",
    "print(lesSix)\n",
    "print(maineSixBis)"
   ]
  },
  {
   "cell_type": "markdown",
   "metadata": {},
   "source": [
    "#### Les booléens\n",
    "\n",
    "Les booléens (boolean) représente une valeur True ou False. Sauf qu'en python tout type de donnée peut être utilisé / converti comme un booléen. Toute variable non égale à 0 ou vide vaut pour une valeur vrai, alors que 0, None ou un container (list, set, dictionnaire) vide vaut pour False"
   ]
  },
  {
   "cell_type": "code",
   "execution_count": null,
   "metadata": {
    "collapsed": false
   },
   "outputs": [],
   "source": [
    "1==True"
   ]
  },
  {
   "cell_type": "code",
   "execution_count": null,
   "metadata": {
    "collapsed": false
   },
   "outputs": [],
   "source": [
    "bool(2)"
   ]
  },
  {
   "cell_type": "code",
   "execution_count": 86,
   "metadata": {
    "collapsed": false
   },
   "outputs": [
    {
     "data": {
      "text/plain": [
       "False"
      ]
     },
     "execution_count": 86,
     "metadata": {},
     "output_type": "execute_result"
    }
   ],
   "source": [
    "bool(0)"
   ]
  },
  {
   "cell_type": "code",
   "execution_count": 87,
   "metadata": {
    "collapsed": false
   },
   "outputs": [
    {
     "data": {
      "text/plain": [
       "False"
      ]
     },
     "execution_count": 87,
     "metadata": {},
     "output_type": "execute_result"
    }
   ],
   "source": [
    "bool([])"
   ]
  },
  {
   "cell_type": "code",
   "execution_count": 88,
   "metadata": {
    "collapsed": false
   },
   "outputs": [
    {
     "data": {
      "text/plain": [
       "True"
      ]
     },
     "execution_count": 88,
     "metadata": {},
     "output_type": "execute_result"
    }
   ],
   "source": [
    "bool(maineSix)"
   ]
  },
  {
   "cell_type": "markdown",
   "metadata": {},
   "source": [
    "### Mutable / non mutable quoi que qu'est-ce ?\n",
    "\n",
    "Voici une petite explication sur le concept de mutabilité. Ceci est une notion un peu fine d'informatique donc si vous ne la comprenez pas de suite ce n'est pas grave.\n",
    "\n",
    "En python (et plus généralement en langage informatique), la mutablilité représente la capacité à être modifié. Donc un objet mutable est une objet que l'on va pouvoir modifié alors qu'un objet non mutable ne pourra pas l'être.\n",
    "\n",
    "\"Cela veut dire qu'une fois une variable non mutable créee je ne vais pas pouvoir la modifier ?\"\n",
    "\n",
    "Oui et non. En effet vous n'allez pas pouvoir la modifier, par contre vous allez pouvoir lui lier une nouvelle valeur sans problème. Petit exemple :"
   ]
  },
  {
   "cell_type": "code",
   "execution_count": 89,
   "metadata": {
    "collapsed": false
   },
   "outputs": [
    {
     "data": {
      "text/plain": [
       "True"
      ]
     },
     "execution_count": 89,
     "metadata": {},
     "output_type": "execute_result"
    }
   ],
   "source": [
    "x = 10\n",
    "y = x\n",
    "# Grossièrement la fonction id retourne l'adressage mémoire de la variable sous forme d'int\n",
    "id(x) == id(y)  # retourne true car les deux objets pointent bien vers le même objet"
   ]
  },
  {
   "cell_type": "code",
   "execution_count": 90,
   "metadata": {
    "collapsed": false
   },
   "outputs": [
    {
     "data": {
      "text/plain": [
       "(1907032848, 1907032848)"
      ]
     },
     "execution_count": 90,
     "metadata": {},
     "output_type": "execute_result"
    }
   ],
   "source": [
    "id(x),id(y)\n",
    "## Pour vérifier les adressages"
   ]
  },
  {
   "cell_type": "code",
   "execution_count": 91,
   "metadata": {
    "collapsed": false
   },
   "outputs": [
    {
     "data": {
      "text/plain": [
       "False"
      ]
     },
     "execution_count": 91,
     "metadata": {},
     "output_type": "execute_result"
    }
   ],
   "source": [
    "# J'incrémente x. Attention ici je ne fais pas de la modification de variable comme on pourrait le croire, mais je lie\n",
    "# une nouvelle valeur à x ! En effet je fais bien maReference = une valeur\n",
    "x = x + 1\n",
    "# Vérification des adressages\n",
    "id(x) == id(y)"
   ]
  },
  {
   "cell_type": "code",
   "execution_count": 92,
   "metadata": {
    "collapsed": false
   },
   "outputs": [
    {
     "data": {
      "text/plain": [
       "(1907032880, 1907032848)"
      ]
     },
     "execution_count": 92,
     "metadata": {},
     "output_type": "execute_result"
    }
   ],
   "source": [
    "id(x),id(y)"
   ]
  },
  {
   "cell_type": "markdown",
   "metadata": {},
   "source": [
    "Petite explication :\n",
    "- j'ai crée une variable x égale à 10 et une variable y égale à x.\n",
    "- j'ai changé la valeur à x, ce qui devrait changer celle de y car y=x\n",
    "- sauf que comme y est immutable il n'a pas subi la modification apportée à x.\n",
    "\n",
    "La même chose avec des objets mutables"
   ]
  },
  {
   "cell_type": "code",
   "execution_count": 93,
   "metadata": {
    "collapsed": false
   },
   "outputs": [
    {
     "data": {
      "text/plain": [
       "True"
      ]
     },
     "execution_count": 93,
     "metadata": {},
     "output_type": "execute_result"
    }
   ],
   "source": [
    "poneys = [\"Twilght Sparkle\", \"Pinkie Pie\", \"Rainbow Dash\", \"Rarity\", \"Applejack\"]\n",
    "poneysBis = poneys\n",
    "id(poneys) == id(poneysBis)"
   ]
  },
  {
   "cell_type": "code",
   "execution_count": 94,
   "metadata": {
    "collapsed": false
   },
   "outputs": [
    {
     "data": {
      "text/plain": [
       "True"
      ]
     },
     "execution_count": 94,
     "metadata": {},
     "output_type": "execute_result"
    }
   ],
   "source": [
    "poneys.append(\"Fluttershy\")\n",
    "id(poneys) == id(poneysBis)"
   ]
  },
  {
   "cell_type": "code",
   "execution_count": 95,
   "metadata": {
    "collapsed": false
   },
   "outputs": [
    {
     "data": {
      "text/plain": [
       "(['Twilght Sparkle',\n",
       "  'Pinkie Pie',\n",
       "  'Rainbow Dash',\n",
       "  'Rarity',\n",
       "  'Applejack',\n",
       "  'Fluttershy'],\n",
       " ['Twilght Sparkle',\n",
       "  'Pinkie Pie',\n",
       "  'Rainbow Dash',\n",
       "  'Rarity',\n",
       "  'Applejack',\n",
       "  'Fluttershy'])"
      ]
     },
     "execution_count": 95,
     "metadata": {},
     "output_type": "execute_result"
    }
   ],
   "source": [
    "poneys,poneysBis"
   ]
  },
  {
   "cell_type": "markdown",
   "metadata": {},
   "source": [
    "Avec des objets mutables modifier un objet va automatiquement tous les objets pointants vers le même objet en mémoire. Et même si cela à l'air super bien, je vous assure que par moment cela va vous poser problème car vous allez vouloir modifier un objet sans modifier ses clones (concept de *shallow copy* et *deep copy*)"
   ]
  },
  {
   "cell_type": "markdown",
   "metadata": {
    "collapsed": true
   },
   "source": [
    "## Les structures de contrôle du flux\n",
    "\n",
    "Naturellement l'interpréteur python va exécuter les instructions les unes après les autres sans se poser de question et ainsi exécuter le programme de haut en bas. Si cela suffit pour des programmes très très simple, rapidement cela va poser des problèmes quand on va chercher à réutiliser des bouts de codes, ou en exécuter suivant des conditions.\n",
    "\n",
    "Il existe 4 structures de contrôle\n",
    "\n",
    "- Les conditions if:elif:else\n",
    "- Les boucles for/while\n",
    "- Les fonctions\n",
    "- La gestions des execptions (non abordée)\n",
    "\n",
    "### Les blocs d'instruction\n",
    "\n",
    "En python il n'y a pas de caractère spéciaux pour créer un bloc d'instructions à la différence de nombreux autres langages, à la place c'est l'indentation qui va faire foi. Ainsi pour définir un bloc cohérent d'instruction il va falloir faire\n",
    "\n",
    "```python\n",
    "structure de controle :\n",
    "  instruction 1\n",
    "  instruction 2\n",
    "```\n",
    "\n",
    "### Les conditions if:elif:else\n",
    "\n",
    "Cette structure est à utiliser quand vous souhaiter exécuter une bout de code quand une condition est remplie. Voici sa forme générale\n",
    "\n",
    "```python\n",
    "if expression1:\n",
    "  #some code\n",
    "elif expressionn2:\n",
    "  #some code\n",
    "elif expression3:\n",
    "  #some code\n",
    "  ...\n",
    "else :\n",
    "  #some code\n",
    "```\n",
    "\n",
    "A part la condition if initiale qui est nécessaire, les autres sont parfaitements optionnelles. L'interpréteur pyhton va exécuter la première expression et si elle renvoit True exécuter le premier bloc puis sortir de la structutre if:elif:else. Si elle renvoit False, alors c'est la seconde expression qui sera calculée et ainsi de suite jusqu'à arrivé au bloc else qui sera exécuter si toutes les conditions sont fausses. Voici quelques exemples :"
   ]
  },
  {
   "cell_type": "code",
   "execution_count": 96,
   "metadata": {
    "collapsed": false
   },
   "outputs": [
    {
     "name": "stdout",
     "output_type": "stream",
     "text": [
      "x est positif et impair\n"
     ]
    }
   ],
   "source": [
    "x = 7\n",
    "if x<0:\n",
    "    print(\"x est négatif\")\n",
    "elif x%2==0:\n",
    "     print(\"x est positif et pair\")\n",
    "else:\n",
    "     print(\"x est positif et impair\")"
   ]
  },
  {
   "cell_type": "markdown",
   "metadata": {},
   "source": [
    "Notez que comme le code chaque bloc d'instruction ne fait qu'une ligne cela peut être réécrit en :"
   ]
  },
  {
   "cell_type": "code",
   "execution_count": 97,
   "metadata": {
    "collapsed": false
   },
   "outputs": [
    {
     "name": "stdout",
     "output_type": "stream",
     "text": [
      "x est positif et impair\n"
     ]
    }
   ],
   "source": [
    "x = 7\n",
    "if x<0: print(\"x est négatif\")\n",
    "elif x%2==0: print(\"x est positif et pair\")\n",
    "else: print(\"x est positif et impair\")"
   ]
  },
  {
   "cell_type": "markdown",
   "metadata": {},
   "source": [
    "Mais je déconseille cette écriture car elle est plus dure à lire et ne fait pas gagner beaucoup de temps/espace"
   ]
  },
  {
   "cell_type": "code",
   "execution_count": 98,
   "metadata": {
    "collapsed": false
   },
   "outputs": [
    {
     "name": "stdout",
     "output_type": "stream",
     "text": [
      "Vous êtes connecté\n"
     ]
    }
   ],
   "source": [
    "connection = True\n",
    "if connection :\n",
    "    print(\"Vous êtes connecté\")\n",
    "else : \n",
    "    print (\"Erreur d'authentification\")"
   ]
  },
  {
   "cell_type": "code",
   "execution_count": 99,
   "metadata": {
    "collapsed": false
   },
   "outputs": [],
   "source": [
    "connection = False\n",
    "if connection :\n",
    "    print(\"Vous êtes connecté\")"
   ]
  },
  {
   "cell_type": "markdown",
   "metadata": {},
   "source": [
    "L'expression à evaluer qui suit le if ou le elif doit retourner un booléen. Ainsi, si c'est déjà un booléen (comme les deux exemple au dessus), pas besoin de faire un test d'égalité avec True ou False.\n",
    "\n",
    "Comme dit plus haut n'importe quel type de données peut-être transtypé en boolean, et python va le faire naturellement quand il attend un boolean. Ainsi les instructions suivant fonctionne mais il faut faire attention. Par exemple si je veux tester si un nombre est pair et que j'écris :"
   ]
  },
  {
   "cell_type": "code",
   "execution_count": 116,
   "metadata": {
    "collapsed": false
   },
   "outputs": [
    {
     "name": "stdout",
     "output_type": "stream",
     "text": [
      "Mon nombre est impair\n"
     ]
    }
   ],
   "source": [
    "nombreATester = 10\n",
    "if nombreATester%2:\n",
    "    print(\"Mon nombre est pair\")\n",
    "else :\n",
    "    print (\"Mon nombre est impair\")"
   ]
  },
  {
   "cell_type": "markdown",
   "metadata": {},
   "source": [
    "Il y a un problème. Cela provient du fait que python à evaluer 10%2 qui vaut 0 puis l'a transtypé en boolean ce qui a retourné False. Ainsi il faut bien faire le code suivant pour tester si un nombre est pair"
   ]
  },
  {
   "cell_type": "code",
   "execution_count": 117,
   "metadata": {
    "collapsed": false
   },
   "outputs": [
    {
     "name": "stdout",
     "output_type": "stream",
     "text": [
      "Mon nombre est impair\n"
     ]
    }
   ],
   "source": [
    "if nombreATester%2:\n",
    "    print(\"Mon nombre est pair\")\n",
    "else :\n",
    "    print (\"Mon nombre est impair\")"
   ]
  },
  {
   "cell_type": "markdown",
   "metadata": {},
   "source": [
    "Gardez en tête ceci :\n",
    "- valeur non égale à 0, non vide, non None => True\n",
    "- 0, vide, None -> False"
   ]
  },
  {
   "cell_type": "markdown",
   "metadata": {},
   "source": [
    "### Les boucles for/while\n",
    "\n",
    "#### Boucle while\n",
    "\n",
    "Une boucle while va répéter un bloc d'instruction tant qu'une condition est vraie. Voici ça syntaxe\n",
    "\n",
    "```python\n",
    "while expression:\n",
    "    #some code\n",
    "```\n",
    "\n",
    "Quelques exemples :"
   ]
  },
  {
   "cell_type": "code",
   "execution_count": 100,
   "metadata": {
    "collapsed": false
   },
   "outputs": [
    {
     "name": "stdout",
     "output_type": "stream",
     "text": [
      "H\n",
      "e\n",
      "l\n",
      "l\n",
      "o\n"
     ]
    }
   ],
   "source": [
    "phrase = \"Hello world\"\n",
    "i = 0\n",
    "while phrase[i]!=\" \": # On affiche les caractères tant que l'on a pas rencontré un espace\n",
    "    print(phrase[i])\n",
    "    i += 1\n"
   ]
  },
  {
   "cell_type": "code",
   "execution_count": 101,
   "metadata": {
    "collapsed": false
   },
   "outputs": [
    {
     "name": "stdout",
     "output_type": "stream",
     "text": [
      "2 4 6 8 "
     ]
    }
   ],
   "source": [
    "ct =2\n",
    "while ct <= 8:\n",
    "    print (ct , end =\" \") # Pour rester sur la même ligne\n",
    "    ct = ct + 2"
   ]
  },
  {
   "cell_type": "markdown",
   "metadata": {},
   "source": [
    "#### Boucle for\n",
    "\n",
    "Une boucle for va répéter un bloc d'instruction pour une liste d'éléments sur laquelle on peut itérer. Ça syntaxe de base est\n",
    "\n",
    "```python\n",
    "for target in liste:\n",
    "    #some code\n",
    "```\n",
    "\n",
    "Voici différents exemples :"
   ]
  },
  {
   "cell_type": "code",
   "execution_count": 102,
   "metadata": {
    "collapsed": false
   },
   "outputs": [
    {
     "name": "stdout",
     "output_type": "stream",
     "text": [
      "T\n",
      "w\n",
      "i\n",
      "l\n",
      "i\n",
      "g\n",
      "h\n",
      "t\n",
      " \n",
      "S\n",
      "p\n",
      "a\n",
      "r\n",
      "k\n",
      "l\n",
      "e\n"
     ]
    }
   ],
   "source": [
    "# On itère sur une chaine de caractère\n",
    "for letter in \"Twilight Sparkle\":\n",
    "    print (letter)"
   ]
  },
  {
   "cell_type": "code",
   "execution_count": 103,
   "metadata": {
    "collapsed": false,
    "scrolled": true
   },
   "outputs": [
    {
     "name": "stdout",
     "output_type": "stream",
     "text": [
      "Twilght Sparkle, Pinkie Pie, Rainbow Dash, Rarity, Applejack, "
     ]
    }
   ],
   "source": [
    "# On itère sur une liste\n",
    "for poney in [\"Twilght Sparkle\", \"Pinkie Pie\", \"Rainbow Dash\", \"Rarity\", \"Applejack\"]:\n",
    "    print(poney, end=\", \")"
   ]
  },
  {
   "cell_type": "code",
   "execution_count": 104,
   "metadata": {
    "collapsed": false
   },
   "outputs": [
    {
     "name": "stdout",
     "output_type": "stream",
     "text": [
      "0  est multiple de 10\n",
      "10  est multiple de 10\n",
      "20  est multiple de 10\n",
      "30  est multiple de 10\n",
      "40  est multiple de 10\n"
     ]
    }
   ],
   "source": [
    "# On itère sur les 50 premiers entiers\n",
    "for i in range(50):\n",
    "    if i%10 == 0 :\n",
    "        print(i, \" est multiple de 10\")"
   ]
  },
  {
   "cell_type": "code",
   "execution_count": 105,
   "metadata": {
    "collapsed": false
   },
   "outputs": [
    {
     "name": "stdout",
     "output_type": "stream",
     "text": [
      "10  est multiple de 10\n",
      "20  est multiple de 10\n",
      "30  est multiple de 10\n",
      "40  est multiple de 10\n"
     ]
    }
   ],
   "source": [
    "# On itère sur les 1 à 50 premiers entiers\n",
    "for i in range(1,50):\n",
    "    if i%10 == 0 :\n",
    "        print(i, \" est multiple de 10\")"
   ]
  },
  {
   "cell_type": "code",
   "execution_count": 106,
   "metadata": {
    "collapsed": false
   },
   "outputs": [
    {
     "name": "stdout",
     "output_type": "stream",
     "text": [
      "1\n",
      "6\n",
      "11\n"
     ]
    }
   ],
   "source": [
    "for i in range(1,15, 5):\n",
    "        print(i)"
   ]
  },
  {
   "cell_type": "markdown",
   "metadata": {},
   "source": [
    "#### Quand utiliser les boucle for et while\n",
    "\n",
    "S'il y a deux types de boucle c'est qu'il y a une raison. Bien qu'on puisse les interchanger car fondamentalement elles font la même chose, la logique derrière est différente.\n",
    "\n",
    "Une boucle for vous permet d'itérer sur tous les éléments d'une collection d'objet (list, set, map ...). Dans un cas où vous voulez appliquer des instructions sur tous les éléments d'une collection d'objet alors la boucle for est le bon choix.\n",
    "\n",
    "Si par contre vous voulez exécuter un bout de code tant qu'une conditione st vrai alors c'est une boucle while (les noms aide beaucoup à comprendre l'utilité des boucles).\n",
    "\n",
    "Globalement voici un moyen de décider assez facile :\n",
    "- Si vous savez exactement le nombre d'itération à l'avance => for\n",
    "- Sinon while"
   ]
  },
  {
   "cell_type": "markdown",
   "metadata": {},
   "source": [
    "#### Les instructions break et continue\n",
    "\n",
    "Par moment vous allez avoir besoin de sauter ou de sortir prématurement de vos boucles, pour cela vous avez les instructions break (sortir de la structure) et continue (sauter une étape).\n",
    "\n",
    "> À titre personnel je déconseille leur utilisation. En effet si dans de rare cas elles peuvent être utile, dans d'autre elles rajoute de la complexité cognitive au programme en le rendant plus dur à comprendre et analyser. Et globalement je pense qu'utiliser un break implique d'avoir pris une boucle for alors qu'il fallait une while.\n",
    "\n",
    "##### break\n",
    "\n",
    "Comme dit au dessus, un break permet de sortir d'une boucle. Dans le cas de boucle imbriquée cela permet de sortir uniquement de la boucle dans laquelle vous vous trouvez.\n",
    "\n",
    "Exemple :"
   ]
  },
  {
   "cell_type": "code",
   "execution_count": 119,
   "metadata": {
    "collapsed": false
   },
   "outputs": [
    {
     "name": "stdout",
     "output_type": "stream",
     "text": [
      "Je rentre dans la boucle\n",
      "working\n",
      "working\n",
      "working\n",
      "working\n",
      "working\n",
      "working\n",
      "working\n",
      "working\n",
      "working\n",
      "working\n",
      "the end\n"
     ]
    }
   ],
   "source": [
    "i = 0\n",
    "print(\"Je rentre dans la boucle\")\n",
    "while True : #toujours vrai, donc on reste dans la boucle pour toujours (c'est une mauvaise pratique !!!!!)\n",
    "    i+=1\n",
    "    if i>10 :\n",
    "        break\n",
    "    print(\"working\")\n",
    "print(\"the end\")"
   ]
  },
  {
   "cell_type": "markdown",
   "metadata": {},
   "source": [
    "##### continue\n",
    "\n",
    "A la différence de break, continue permet de terminer l'étape en cours, mais on reste dans la boucle\n",
    "\n",
    "Exemple : "
   ]
  },
  {
   "cell_type": "code",
   "execution_count": 121,
   "metadata": {
    "collapsed": false
   },
   "outputs": [
    {
     "name": "stdout",
     "output_type": "stream",
     "text": [
      " Twlght Sparkle "
     ]
    }
   ],
   "source": [
    "for c in \" Twilight Sparkle \": # Exemple continue\n",
    "    if (c == \"i\") :\n",
    "        continue\n",
    "    print (c, end=\"\")\n"
   ]
  },
  {
   "cell_type": "markdown",
   "metadata": {},
   "source": [
    "#### L'instruction else en fin de boucle\n",
    "\n",
    "Il est possible de rajouter une instruction else à la fin d'une boucle. Le code à la fin du else sera exécuter uniquement dans la boucle s'arrêtera naturellement (donc sans un break ou une erreur). Voilà à quoi ça ressemble :"
   ]
  },
  {
   "cell_type": "code",
   "execution_count": 122,
   "metadata": {
    "collapsed": false
   },
   "outputs": [
    {
     "name": "stdout",
     "output_type": "stream",
     "text": [
      " Twlght Sparkle On est rentré dans le else\n"
     ]
    }
   ],
   "source": [
    "for c in \" Twilight Sparkle \": # Exemple continue\n",
    "    if (c == \"i\") :\n",
    "        continue\n",
    "    print (c, end=\"\")\n",
    "else :\n",
    "    print(\"On est rentré dans le else\")"
   ]
  },
  {
   "cell_type": "code",
   "execution_count": 123,
   "metadata": {
    "collapsed": false
   },
   "outputs": [
    {
     "name": "stdout",
     "output_type": "stream",
     "text": [
      " Tw"
     ]
    }
   ],
   "source": [
    "for c in \" Twilight Sparkle \": # Exemple continue\n",
    "    if (c == \"i\") :\n",
    "        break\n",
    "    print (c, end=\"\")\n",
    "else :\n",
    "    print(\"On est rentré dans le else\")"
   ]
  },
  {
   "cell_type": "code",
   "execution_count": null,
   "metadata": {
    "collapsed": true
   },
   "outputs": [],
   "source": []
  }
 ],
 "metadata": {
  "anaconda-cloud": {},
  "kernelspec": {
   "display_name": "Python [default]",
   "language": "python",
   "name": "python3"
  },
  "language_info": {
   "codemirror_mode": {
    "name": "ipython",
    "version": 3
   },
   "file_extension": ".py",
   "mimetype": "text/x-python",
   "name": "python",
   "nbconvert_exporter": "python",
   "pygments_lexer": "ipython3",
   "version": "3.5.2"
  },
  "nbpresent": {
   "slides": {
    "0f493593-f8b6-4fbf-b777-8fbe4a6a72cb": {
     "id": "0f493593-f8b6-4fbf-b777-8fbe4a6a72cb",
     "prev": "d2c404d0-042e-4789-907a-9827d8dc04b8",
     "regions": {
      "1b203ec3-bef4-495a-a71d-7c3adbce8c61": {
       "attrs": {
        "height": 0.8,
        "width": 0.8,
        "x": 0.1,
        "y": 0.1
       },
       "content": {
        "cell": "aca316ee-7ab2-4070-b83f-6c42e0b9237f",
        "part": "whole"
       },
       "id": "1b203ec3-bef4-495a-a71d-7c3adbce8c61"
      }
     }
    },
    "11c014f0-90be-42bf-bf97-ee0b33660550": {
     "id": "11c014f0-90be-42bf-bf97-ee0b33660550",
     "prev": "5e1de894-aace-4adf-9086-8c9b7254e675",
     "regions": {
      "644e81ee-0087-4715-87dc-2139acff7e31": {
       "attrs": {
        "height": 0.8,
        "width": 0.8,
        "x": 0.1,
        "y": 0.1
       },
       "content": {
        "cell": "8422723a-8c05-4dac-83f7-6c364ee75f29",
        "part": "whole"
       },
       "id": "644e81ee-0087-4715-87dc-2139acff7e31"
      }
     }
    },
    "1455df87-b9c0-4229-93c0-0a522c56db29": {
     "id": "1455df87-b9c0-4229-93c0-0a522c56db29",
     "prev": "e6abd795-b27b-4c9f-9dd6-04c4adb6adc6",
     "regions": {
      "fc10ba6f-0c81-4ff6-889c-a0d746fc094e": {
       "attrs": {
        "height": 0.8,
        "width": 0.8,
        "x": 0.1,
        "y": 0.1
       },
       "content": {
        "cell": "cfc4af0a-07f0-4094-a6bb-0fa539f47735",
        "part": "whole"
       },
       "id": "fc10ba6f-0c81-4ff6-889c-a0d746fc094e"
      }
     }
    },
    "1dbe11d5-8605-4b0c-a028-277e6edab33a": {
     "id": "1dbe11d5-8605-4b0c-a028-277e6edab33a",
     "prev": null,
     "regions": {
      "26336549-bd82-470e-ade7-adc04af8a576": {
       "attrs": {
        "height": 0.8,
        "width": 0.8,
        "x": 0.1,
        "y": 0.1
       },
       "content": {
        "cell": "af16b9b6-c6f3-4e59-9f14-a4390616ca32",
        "part": "whole"
       },
       "id": "26336549-bd82-470e-ade7-adc04af8a576"
      }
     }
    },
    "5e1de894-aace-4adf-9086-8c9b7254e675": {
     "id": "5e1de894-aace-4adf-9086-8c9b7254e675",
     "prev": "1455df87-b9c0-4229-93c0-0a522c56db29",
     "regions": {
      "0b9c7687-e0a5-4818-8204-4bda6368a98c": {
       "attrs": {
        "height": 0.8,
        "width": 0.8,
        "x": 0.1,
        "y": 0.1
       },
       "content": {
        "cell": "dae29293-57e5-46aa-9ea9-928f69d11ffd",
        "part": "whole"
       },
       "id": "0b9c7687-e0a5-4818-8204-4bda6368a98c"
      }
     }
    },
    "cdb1b822-f7ac-4376-a5a9-16bd29d333f1": {
     "id": "cdb1b822-f7ac-4376-a5a9-16bd29d333f1",
     "prev": "f057a94e-7384-45e4-a344-f2052ad29b88",
     "regions": {
      "e667a5b6-003a-4f0a-a8c2-8bad58fcbcdb": {
       "attrs": {
        "height": 0.8,
        "width": 0.8,
        "x": 0.1,
        "y": 0.1
       },
       "content": {
        "cell": "e7c0f82e-2304-4ef8-95cc-9f630809e4ba",
        "part": "whole"
       },
       "id": "e667a5b6-003a-4f0a-a8c2-8bad58fcbcdb"
      }
     }
    },
    "d2c404d0-042e-4789-907a-9827d8dc04b8": {
     "id": "d2c404d0-042e-4789-907a-9827d8dc04b8",
     "prev": "1dbe11d5-8605-4b0c-a028-277e6edab33a",
     "regions": {
      "532f1b51-8e6f-4e2e-a423-dfaa1fd5da95": {
       "attrs": {
        "height": 0.8,
        "width": 0.8,
        "x": 0.1,
        "y": 0.1
       },
       "content": {
        "cell": "903e3f4b-e8a7-4353-ad56-20e309b2a120",
        "part": "whole"
       },
       "id": "532f1b51-8e6f-4e2e-a423-dfaa1fd5da95"
      }
     }
    },
    "e6abd795-b27b-4c9f-9dd6-04c4adb6adc6": {
     "id": "e6abd795-b27b-4c9f-9dd6-04c4adb6adc6",
     "prev": "cdb1b822-f7ac-4376-a5a9-16bd29d333f1",
     "regions": {
      "08d3c502-85b5-4206-9178-c0552bb37247": {
       "attrs": {
        "height": 0.8,
        "width": 0.8,
        "x": 0.1,
        "y": 0.1
       },
       "content": {
        "cell": "67ee52db-c9d1-4268-9df6-ea72d7037ddf",
        "part": "whole"
       },
       "id": "08d3c502-85b5-4206-9178-c0552bb37247"
      }
     }
    },
    "f057a94e-7384-45e4-a344-f2052ad29b88": {
     "id": "f057a94e-7384-45e4-a344-f2052ad29b88",
     "prev": "0f493593-f8b6-4fbf-b777-8fbe4a6a72cb",
     "regions": {
      "5b6b0ddf-d6b2-474a-b709-35ce3b30f2ee": {
       "attrs": {
        "height": 0.8,
        "width": 0.8,
        "x": 0.1,
        "y": 0.1
       },
       "content": {
        "cell": "a2702d5d-b86b-4ffa-a35c-128c947740ef",
        "part": "whole"
       },
       "id": "5b6b0ddf-d6b2-474a-b709-35ce3b30f2ee"
      }
     }
    }
   },
   "themes": {}
  }
 },
 "nbformat": 4,
 "nbformat_minor": 1
}
